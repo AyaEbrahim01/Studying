{
  "nbformat": 4,
  "nbformat_minor": 0,
  "metadata": {
    "colab": {
      "name": "Foundations of Probability in Python(1).ipynb",
      "provenance": [],
      "collapsed_sections": []
    },
    "kernelspec": {
      "name": "python3",
      "display_name": "Python 3"
    },
    "language_info": {
      "name": "python"
    }
  },
  "cells": [
    {
      "cell_type": "markdown",
      "source": [
        "Flipping a coin"
      ],
      "metadata": {
        "id": "NYDxExJ91-kC"
      }
    },
    {
      "cell_type": "markdown",
      "source": [
        "**Importing scipy.stats library and using bernoulli**"
      ],
      "metadata": {
        "id": "m_ppjv5j6rlU"
      }
    },
    {
      "cell_type": "code",
      "execution_count": 1,
      "metadata": {
        "colab": {
          "base_uri": "https://localhost:8080/"
        },
        "id": "LkyGG4-45rHr",
        "outputId": "02616503-6b90-44f2-f3c2-a154c69bbd14"
      },
      "outputs": [
        {
          "output_type": "execute_result",
          "data": {
            "text/plain": [
              "array([0])"
            ]
          },
          "metadata": {},
          "execution_count": 1
        }
      ],
      "source": [
        "#Generate rvs for random variates using arg. p for success prob. and  size for no. of coin flips.\n",
        "\n",
        "from scipy.stats import bernoulli\n",
        "bernoulli.rvs(p=0.5, size=1)\n",
        "\n",
        "#The output for the first time is \"0\" which means failure or T\n",
        "#If you run it again it will be \"array([1])\" whch means success or H. "
      ]
    },
    {
      "cell_type": "markdown",
      "source": [
        "**Change the size of flips**"
      ],
      "metadata": {
        "id": "VKmZqTP18Ysv"
      }
    },
    {
      "cell_type": "markdown",
      "source": [
        "**Flipping multiple coins**"
      ],
      "metadata": {
        "id": "BDqJGVr_2NC3"
      }
    },
    {
      "cell_type": "code",
      "source": [
        "bernoulli.rvs (p=0.5, size=10)"
      ],
      "metadata": {
        "colab": {
          "base_uri": "https://localhost:8080/"
        },
        "id": "sj5Cz4xTzCBn",
        "outputId": "b821f7c3-5b3e-4a01-d227-debe7be6c693"
      },
      "execution_count": 2,
      "outputs": [
        {
          "output_type": "execute_result",
          "data": {
            "text/plain": [
              "array([0, 1, 1, 0, 1, 0, 1, 0, 1, 0])"
            ]
          },
          "metadata": {},
          "execution_count": 2
        }
      ]
    },
    {
      "cell_type": "markdown",
      "source": [
        "**Checking the number of heads**"
      ],
      "metadata": {
        "id": "pSCs9PMr0sm0"
      }
    },
    {
      "cell_type": "code",
      "source": [
        "sum(bernoulli.rvs(p=0.5, size=10)) #5 heads and 5 tails"
      ],
      "metadata": {
        "colab": {
          "base_uri": "https://localhost:8080/"
        },
        "id": "oBP6Ip13zCD0",
        "outputId": "8532140c-f582-4de9-8bca-7ae9ac0ce92b"
      },
      "execution_count": 8,
      "outputs": [
        {
          "output_type": "execute_result",
          "data": {
            "text/plain": [
              "5"
            ]
          },
          "metadata": {},
          "execution_count": 8
        }
      ]
    },
    {
      "cell_type": "code",
      "source": [
        "sum((bernoulli.rvs(p=0.5, size=10))) #2 heads and 8 tails"
      ],
      "metadata": {
        "colab": {
          "base_uri": "https://localhost:8080/"
        },
        "id": "NNkfa1bnzCHa",
        "outputId": "bf3799f1-4941-46f9-e9ea-8e6aced2840c"
      },
      "execution_count": null,
      "outputs": [
        {
          "output_type": "execute_result",
          "data": {
            "text/plain": [
              "2"
            ]
          },
          "metadata": {},
          "execution_count": 5
        }
      ]
    },
    {
      "cell_type": "markdown",
      "source": [
        "**Using binomial distribution and binom object**\n",
        "\n",
        "\n",
        "1.   n => No. of the coin flips\n",
        "2.   p => Probability of success\n",
        "3.   size => No. of draws of the same experiment\n",
        "\n"
      ],
      "metadata": {
        "id": "xWcx0Dj51oi4"
      }
    },
    {
      "cell_type": "markdown",
      "source": [
        "**Binomial r.v.**"
      ],
      "metadata": {
        "id": "kV42OcSq42KD"
      }
    },
    {
      "cell_type": "code",
      "source": [
        "from scipy.stats import binom\n",
        "binom.rvs (n=10 , p = 0.5 , size = 1)\n",
        "#7 heads out of 10 flips"
      ],
      "metadata": {
        "colab": {
          "base_uri": "https://localhost:8080/"
        },
        "id": "Y-8Xqn6H4Sgj",
        "outputId": "d4883f74-f3e3-4795-f3cf-98df77694632"
      },
      "execution_count": null,
      "outputs": [
        {
          "output_type": "execute_result",
          "data": {
            "text/plain": [
              "array([7])"
            ]
          },
          "metadata": {},
          "execution_count": 8
        }
      ]
    },
    {
      "cell_type": "markdown",
      "source": [
        "**Many draws**"
      ],
      "metadata": {
        "id": "T-ihHshW48jM"
      }
    },
    {
      "cell_type": "code",
      "source": [
        "binom.rvs(n=10, p=0.5 , size=10) #6 is the result that repeats the most for a fair coin."
      ],
      "metadata": {
        "colab": {
          "base_uri": "https://localhost:8080/"
        },
        "id": "C4hZo9X15BIz",
        "outputId": "190cde3f-d7e1-4fa0-b2f3-402f4e2c5c3d"
      },
      "execution_count": null,
      "outputs": [
        {
          "output_type": "execute_result",
          "data": {
            "text/plain": [
              "array([6, 5, 6, 6, 7, 6, 4, 6, 5, 6])"
            ]
          },
          "metadata": {},
          "execution_count": 11
        }
      ]
    },
    {
      "cell_type": "markdown",
      "source": [
        "**Biased coin draws**"
      ],
      "metadata": {
        "id": "gJ4UcDcq6Q6i"
      }
    },
    {
      "cell_type": "code",
      "source": [
        "binom.rvs(n=10, p=0.3 , size=10) #changed the p= 0.3 (diff. outcomes)"
      ],
      "metadata": {
        "colab": {
          "base_uri": "https://localhost:8080/"
        },
        "id": "VJqoRo6L5McW",
        "outputId": "b7381850-1ee9-42af-9183-734e5b954dd5"
      },
      "execution_count": null,
      "outputs": [
        {
          "output_type": "execute_result",
          "data": {
            "text/plain": [
              "array([2, 5, 3, 4, 2, 4, 1, 4, 2, 5])"
            ]
          },
          "metadata": {},
          "execution_count": 12
        }
      ]
    },
    {
      "cell_type": "markdown",
      "source": [
        "**Random number generator seed**"
      ],
      "metadata": {
        "id": "aNSWGCZx7Yw8"
      }
    },
    {
      "cell_type": "markdown",
      "source": [
        "\n",
        "\n",
        "*   To simulate the outcome of a random experiment.\n",
        "*   If you run the same command with the same random seed, you will always get the same result. In Python we need to set a seed for the generator to produce similar outcomes in each experiment. Then we can check if the results are what we expected. We have two options to configure the generator: using the (**random_state**) parameter of the rvs function or using (**np.random.seed**).\n"
      ],
      "metadata": {
        "id": "hxfU5okU7ROL"
      }
    },
    {
      "cell_type": "code",
      "source": [
        "from scipy.stats import binom\n",
        "binom.rvs(n=10, p=0.5 , size =1, random_state=42)"
      ],
      "metadata": {
        "colab": {
          "base_uri": "https://localhost:8080/"
        },
        "id": "P14JBbl2F8B-",
        "outputId": "86aee121-f085-4829-d1bb-9663a08e5dc1"
      },
      "execution_count": 9,
      "outputs": [
        {
          "output_type": "execute_result",
          "data": {
            "text/plain": [
              "array([4])"
            ]
          },
          "metadata": {},
          "execution_count": 9
        }
      ]
    },
    {
      "cell_type": "code",
      "source": [
        "import numpy as np\n",
        "np.random.seed(42)\n"
      ],
      "metadata": {
        "id": "iZyhPXBnGOhs"
      },
      "execution_count": 10,
      "outputs": []
    },
    {
      "cell_type": "code",
      "source": [
        "from scipy.stats import binom\n",
        "import numpy as np\n",
        "np.random.seed(42)\n",
        "binom.rvs(n=10,p=0.5,size=1)"
      ],
      "metadata": {
        "colab": {
          "base_uri": "https://localhost:8080/"
        },
        "id": "jRJdFhS6Gd_c",
        "outputId": "f931e5b3-a6f0-43f3-f237-1b369a091a2b"
      },
      "execution_count": 11,
      "outputs": [
        {
          "output_type": "execute_result",
          "data": {
            "text/plain": [
              "array([4])"
            ]
          },
          "metadata": {},
          "execution_count": 11
        }
      ]
    },
    {
      "cell_type": "markdown",
      "source": [
        "**Practice**"
      ],
      "metadata": {
        "id": "vd0ngdBanpar"
      }
    },
    {
      "cell_type": "markdown",
      "source": [
        "**Flipping coins**\n",
        "\n",
        "---\n",
        "\n",
        "\n",
        "\n",
        "\n",
        "This exercise requires the bernoulli object from the scipy.stats library to simulate the two possible outcomes from a coin flip, 1 (\"heads\") or 0 (\"tails\"), and the numpy library (loaded as np) to set the random generator seed.\n",
        "\n",
        "You'll use the bernoulli.rvs() function to simulate coin flips using the size argument.\n",
        "\n",
        "You will set the random seed so you can reproduce the results for the random experiment in each exercise.\n",
        "\n",
        "From each experiment, you will get the values of each coin flip. You can add the coin flips to get the number of heads after flipping 10 coins using the sum() function.\n",
        "\n",
        "\n",
        "---\n",
        "\n",
        "\n",
        "*Steps:*\n",
        "1. Import bernoulli from scipy.stats, set the seed with np.random.seed(). Simulate 1 flip, with a 35% chance of heads.\n",
        "2. Use bernoulli.rvs() and sum() to get the number of heads after 10 coin flips with 35% chance of getting heads.\n",
        "3. Using bernoulli.rvs() and sum(), try to get the number of heads after 5 flips with a 50% chance of getting heads."
      ],
      "metadata": {
        "id": "8kElFVLynyFt"
      }
    },
    {
      "cell_type": "code",
      "source": [
        "# Import numpy\n",
        "import numpy as np\n",
        "# Import the bernoulli object from scipy.stats\n",
        "from scipy.stats import bernoulli\n",
        "\n",
        "# Set the random seed to reproduce the results\n",
        "np.random.seed(42)\n",
        "\n",
        "# Simulate one coin flip with 35% chance of getting heads\n",
        "coin_flip = bernoulli.rvs(p=0.35, size=10)\n",
        "print(coin_flip)"
      ],
      "metadata": {
        "colab": {
          "base_uri": "https://localhost:8080/"
        },
        "id": "wqJ-O0iNnrgp",
        "outputId": "40dcddc4-6b2e-4d69-cf79-170e9e5c0115"
      },
      "execution_count": null,
      "outputs": [
        {
          "output_type": "stream",
          "name": "stdout",
          "text": [
            "[0 1 1 0 0 0 0 1 0 1]\n"
          ]
        }
      ]
    },
    {
      "cell_type": "code",
      "source": [
        "#Using bernoulli.rvs() and sum(), try to get the number of heads after 5 flips with a 50% chance of getting heads.\n",
        "five_coin_flips = bernoulli.rvs(p=0.5, size=5)\n",
        "coin_flips_sum = sum(five_coin_flips)\n",
        "print(coin_flips_sum)"
      ],
      "metadata": {
        "colab": {
          "base_uri": "https://localhost:8080/"
        },
        "id": "YIaZFySfp-1S",
        "outputId": "3225aaf8-1432-4d70-8419-399d97cb3859"
      },
      "execution_count": null,
      "outputs": [
        {
          "output_type": "stream",
          "name": "stdout",
          "text": [
            "2\n"
          ]
        }
      ]
    },
    {
      "cell_type": "markdown",
      "source": [
        "**Using binom to flip even more coins\n",
        "Previously, you simulated 10 coin flips with a 35% chance of getting heads using bernoulli.rvs().**\n",
        "\n",
        "**This exercise loads the binom object from scipy.stats so you can use binom.rvs() to simulate 20 trials of 10 coin flips with a 35% chance of getting heads on each coin flip.**"
      ],
      "metadata": {
        "id": "QlcAO6qirWkw"
      }
    },
    {
      "cell_type": "code",
      "source": [
        "#Defining binom\n",
        "# Set the random seed to reproduce the results\n",
        "np.random.seed(42)\n",
        "\n",
        "# Simulate 20 trials of 10 coin flips \n",
        "draws = binom.rvs(n=10, p=0.35, size=20)\n",
        "print(draws)"
      ],
      "metadata": {
        "colab": {
          "base_uri": "https://localhost:8080/"
        },
        "id": "Rcb6JJNcq9jF",
        "outputId": "aff3b106-b1e5-4a67-f5c9-b77f294d3f87"
      },
      "execution_count": null,
      "outputs": [
        {
          "output_type": "stream",
          "name": "stdout",
          "text": [
            "[3 6 4 4 2 2 1 5 4 4 1 6 5 2 2 2 3 4 3 3]\n"
          ]
        }
      ]
    }
  ]
}